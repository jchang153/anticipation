{
 "cells": [
  {
   "cell_type": "code",
   "execution_count": null,
   "metadata": {},
   "outputs": [
    {
     "ename": "SyntaxError",
     "evalue": "invalid syntax (624265981.py, line 5)",
     "output_type": "error",
     "traceback": [
      "\u001b[0;36m  Cell \u001b[0;32mIn[25], line 5\u001b[0;36m\u001b[0m\n\u001b[0;31m    import annotation-mapping as am\u001b[0m\n\u001b[0m                     ^\u001b[0m\n\u001b[0;31mSyntaxError\u001b[0m\u001b[0;31m:\u001b[0m invalid syntax\n"
     ]
    }
   ],
   "source": [
    "import numpy as np\n",
    "import pandas as pd\n",
    "from matplotlib import pyplot as plt\n",
    "\n",
    "import annotation_mapping as am\n"
   ]
  },
  {
   "cell_type": "code",
   "execution_count": 2,
   "metadata": {},
   "outputs": [],
   "source": [
    "df = pd.read_csv('asap-dataset-master/metadata.csv')"
   ]
  },
  {
   "cell_type": "code",
   "execution_count": 4,
   "metadata": {},
   "outputs": [
    {
     "data": {
      "text/html": [
       "<div>\n",
       "<style scoped>\n",
       "    .dataframe tbody tr th:only-of-type {\n",
       "        vertical-align: middle;\n",
       "    }\n",
       "\n",
       "    .dataframe tbody tr th {\n",
       "        vertical-align: top;\n",
       "    }\n",
       "\n",
       "    .dataframe thead th {\n",
       "        text-align: right;\n",
       "    }\n",
       "</style>\n",
       "<table border=\"1\" class=\"dataframe\">\n",
       "  <thead>\n",
       "    <tr style=\"text-align: right;\">\n",
       "      <th></th>\n",
       "      <th>composer</th>\n",
       "      <th>title</th>\n",
       "      <th>folder</th>\n",
       "      <th>xml_score</th>\n",
       "      <th>midi_score</th>\n",
       "      <th>midi_performance</th>\n",
       "      <th>performance_annotations</th>\n",
       "      <th>midi_score_annotations</th>\n",
       "      <th>maestro_midi_performance</th>\n",
       "      <th>maestro_audio_performance</th>\n",
       "      <th>start</th>\n",
       "      <th>end</th>\n",
       "      <th>audio_performance</th>\n",
       "    </tr>\n",
       "  </thead>\n",
       "  <tbody>\n",
       "    <tr>\n",
       "      <th>0</th>\n",
       "      <td>Bach</td>\n",
       "      <td>Fugue_bwv_846</td>\n",
       "      <td>Bach/Fugue/bwv_846</td>\n",
       "      <td>Bach/Fugue/bwv_846/xml_score.musicxml</td>\n",
       "      <td>Bach/Fugue/bwv_846/midi_score.mid</td>\n",
       "      <td>Bach/Fugue/bwv_846/Shi05M.mid</td>\n",
       "      <td>Bach/Fugue/bwv_846/Shi05M_annotations.txt</td>\n",
       "      <td>Bach/Fugue/bwv_846/midi_score_annotations.txt</td>\n",
       "      <td>{maestro}/2006/MIDI-Unprocessed_19_R1_2006_01-...</td>\n",
       "      <td>{maestro}/2006/MIDI-Unprocessed_19_R1_2006_01-...</td>\n",
       "      <td>144.567708</td>\n",
       "      <td>NaN</td>\n",
       "      <td>Bach/Fugue/bwv_846/Shi05M.wav</td>\n",
       "    </tr>\n",
       "    <tr>\n",
       "      <th>1</th>\n",
       "      <td>Bach</td>\n",
       "      <td>Fugue_bwv_848</td>\n",
       "      <td>Bach/Fugue/bwv_848</td>\n",
       "      <td>Bach/Fugue/bwv_848/xml_score.musicxml</td>\n",
       "      <td>Bach/Fugue/bwv_848/midi_score.mid</td>\n",
       "      <td>Bach/Fugue/bwv_848/Denisova06M.mid</td>\n",
       "      <td>Bach/Fugue/bwv_848/Denisova06M_annotations.txt</td>\n",
       "      <td>Bach/Fugue/bwv_848/midi_score_annotations.txt</td>\n",
       "      <td>{maestro}/2008/MIDI-Unprocessed_02_R1_2008_01-...</td>\n",
       "      <td>{maestro}/2008/MIDI-Unprocessed_02_R1_2008_01-...</td>\n",
       "      <td>69.317708</td>\n",
       "      <td>NaN</td>\n",
       "      <td>Bach/Fugue/bwv_848/Denisova06M.wav</td>\n",
       "    </tr>\n",
       "    <tr>\n",
       "      <th>2</th>\n",
       "      <td>Bach</td>\n",
       "      <td>Fugue_bwv_848</td>\n",
       "      <td>Bach/Fugue/bwv_848</td>\n",
       "      <td>Bach/Fugue/bwv_848/xml_score.musicxml</td>\n",
       "      <td>Bach/Fugue/bwv_848/midi_score.mid</td>\n",
       "      <td>Bach/Fugue/bwv_848/Lee01M.mid</td>\n",
       "      <td>Bach/Fugue/bwv_848/Lee01M_annotations.txt</td>\n",
       "      <td>Bach/Fugue/bwv_848/midi_score_annotations.txt</td>\n",
       "      <td>{maestro}/2011/MIDI-Unprocessed_08_R1_2011_MID...</td>\n",
       "      <td>{maestro}/2011/MIDI-Unprocessed_08_R1_2011_MID...</td>\n",
       "      <td>74.795573</td>\n",
       "      <td>NaN</td>\n",
       "      <td>Bach/Fugue/bwv_848/Lee01M.wav</td>\n",
       "    </tr>\n",
       "    <tr>\n",
       "      <th>3</th>\n",
       "      <td>Bach</td>\n",
       "      <td>Fugue_bwv_848</td>\n",
       "      <td>Bach/Fugue/bwv_848</td>\n",
       "      <td>Bach/Fugue/bwv_848/xml_score.musicxml</td>\n",
       "      <td>Bach/Fugue/bwv_848/midi_score.mid</td>\n",
       "      <td>Bach/Fugue/bwv_848/LeeSH01M.mid</td>\n",
       "      <td>Bach/Fugue/bwv_848/LeeSH01M_annotations.txt</td>\n",
       "      <td>Bach/Fugue/bwv_848/midi_score_annotations.txt</td>\n",
       "      <td>{maestro}/2017/MIDI-Unprocessed_049_PIANO049_M...</td>\n",
       "      <td>{maestro}/2017/MIDI-Unprocessed_049_PIANO049_M...</td>\n",
       "      <td>83.644792</td>\n",
       "      <td>NaN</td>\n",
       "      <td>Bach/Fugue/bwv_848/LeeSH01M.wav</td>\n",
       "    </tr>\n",
       "    <tr>\n",
       "      <th>4</th>\n",
       "      <td>Bach</td>\n",
       "      <td>Fugue_bwv_848</td>\n",
       "      <td>Bach/Fugue/bwv_848</td>\n",
       "      <td>Bach/Fugue/bwv_848/xml_score.musicxml</td>\n",
       "      <td>Bach/Fugue/bwv_848/midi_score.mid</td>\n",
       "      <td>Bach/Fugue/bwv_848/Lin04M.mid</td>\n",
       "      <td>Bach/Fugue/bwv_848/Lin04M_annotations.txt</td>\n",
       "      <td>Bach/Fugue/bwv_848/midi_score_annotations.txt</td>\n",
       "      <td>{maestro}/2008/MIDI-Unprocessed_10_R1_2008_01-...</td>\n",
       "      <td>{maestro}/2008/MIDI-Unprocessed_10_R1_2008_01-...</td>\n",
       "      <td>75.373698</td>\n",
       "      <td>NaN</td>\n",
       "      <td>Bach/Fugue/bwv_848/Lin04M.wav</td>\n",
       "    </tr>\n",
       "  </tbody>\n",
       "</table>\n",
       "</div>"
      ],
      "text/plain": [
       "  composer          title              folder  \\\n",
       "0     Bach  Fugue_bwv_846  Bach/Fugue/bwv_846   \n",
       "1     Bach  Fugue_bwv_848  Bach/Fugue/bwv_848   \n",
       "2     Bach  Fugue_bwv_848  Bach/Fugue/bwv_848   \n",
       "3     Bach  Fugue_bwv_848  Bach/Fugue/bwv_848   \n",
       "4     Bach  Fugue_bwv_848  Bach/Fugue/bwv_848   \n",
       "\n",
       "                               xml_score                         midi_score  \\\n",
       "0  Bach/Fugue/bwv_846/xml_score.musicxml  Bach/Fugue/bwv_846/midi_score.mid   \n",
       "1  Bach/Fugue/bwv_848/xml_score.musicxml  Bach/Fugue/bwv_848/midi_score.mid   \n",
       "2  Bach/Fugue/bwv_848/xml_score.musicxml  Bach/Fugue/bwv_848/midi_score.mid   \n",
       "3  Bach/Fugue/bwv_848/xml_score.musicxml  Bach/Fugue/bwv_848/midi_score.mid   \n",
       "4  Bach/Fugue/bwv_848/xml_score.musicxml  Bach/Fugue/bwv_848/midi_score.mid   \n",
       "\n",
       "                     midi_performance  \\\n",
       "0       Bach/Fugue/bwv_846/Shi05M.mid   \n",
       "1  Bach/Fugue/bwv_848/Denisova06M.mid   \n",
       "2       Bach/Fugue/bwv_848/Lee01M.mid   \n",
       "3     Bach/Fugue/bwv_848/LeeSH01M.mid   \n",
       "4       Bach/Fugue/bwv_848/Lin04M.mid   \n",
       "\n",
       "                          performance_annotations  \\\n",
       "0       Bach/Fugue/bwv_846/Shi05M_annotations.txt   \n",
       "1  Bach/Fugue/bwv_848/Denisova06M_annotations.txt   \n",
       "2       Bach/Fugue/bwv_848/Lee01M_annotations.txt   \n",
       "3     Bach/Fugue/bwv_848/LeeSH01M_annotations.txt   \n",
       "4       Bach/Fugue/bwv_848/Lin04M_annotations.txt   \n",
       "\n",
       "                          midi_score_annotations  \\\n",
       "0  Bach/Fugue/bwv_846/midi_score_annotations.txt   \n",
       "1  Bach/Fugue/bwv_848/midi_score_annotations.txt   \n",
       "2  Bach/Fugue/bwv_848/midi_score_annotations.txt   \n",
       "3  Bach/Fugue/bwv_848/midi_score_annotations.txt   \n",
       "4  Bach/Fugue/bwv_848/midi_score_annotations.txt   \n",
       "\n",
       "                            maestro_midi_performance  \\\n",
       "0  {maestro}/2006/MIDI-Unprocessed_19_R1_2006_01-...   \n",
       "1  {maestro}/2008/MIDI-Unprocessed_02_R1_2008_01-...   \n",
       "2  {maestro}/2011/MIDI-Unprocessed_08_R1_2011_MID...   \n",
       "3  {maestro}/2017/MIDI-Unprocessed_049_PIANO049_M...   \n",
       "4  {maestro}/2008/MIDI-Unprocessed_10_R1_2008_01-...   \n",
       "\n",
       "                           maestro_audio_performance       start  end  \\\n",
       "0  {maestro}/2006/MIDI-Unprocessed_19_R1_2006_01-...  144.567708  NaN   \n",
       "1  {maestro}/2008/MIDI-Unprocessed_02_R1_2008_01-...   69.317708  NaN   \n",
       "2  {maestro}/2011/MIDI-Unprocessed_08_R1_2011_MID...   74.795573  NaN   \n",
       "3  {maestro}/2017/MIDI-Unprocessed_049_PIANO049_M...   83.644792  NaN   \n",
       "4  {maestro}/2008/MIDI-Unprocessed_10_R1_2008_01-...   75.373698  NaN   \n",
       "\n",
       "                    audio_performance  \n",
       "0       Bach/Fugue/bwv_846/Shi05M.wav  \n",
       "1  Bach/Fugue/bwv_848/Denisova06M.wav  \n",
       "2       Bach/Fugue/bwv_848/Lee01M.wav  \n",
       "3     Bach/Fugue/bwv_848/LeeSH01M.wav  \n",
       "4       Bach/Fugue/bwv_848/Lin04M.wav  "
      ]
     },
     "execution_count": 4,
     "metadata": {},
     "output_type": "execute_result"
    }
   ],
   "source": [
    "df.head()"
   ]
  },
  {
   "cell_type": "code",
   "execution_count": 24,
   "metadata": {},
   "outputs": [],
   "source": [
    "sample = df.iloc[0]\n",
    "x1 = sample['midi_score_annotations']\n",
    "x2 = sample['performance_annotations']"
   ]
  },
  {
   "cell_type": "code",
   "execution_count": null,
   "metadata": {},
   "outputs": [],
   "source": []
  },
  {
   "cell_type": "code",
   "execution_count": 14,
   "metadata": {},
   "outputs": [],
   "source": [
    "with open('./asap-dataset-master/'+sample['midi_score_annotations'], 'rb') as f:\n",
    "    midi_data = f.read()"
   ]
  },
  {
   "cell_type": "code",
   "execution_count": 15,
   "metadata": {},
   "outputs": [
    {
     "data": {
      "text/plain": [
       "b'0.5\\t0.5\\tb,,0\\n1.0\\t1.0\\tb\\n1.5\\t1.5\\tb\\n2.0\\t2.0\\tdb,4/4\\n2.5\\t2.5\\tb\\n3.0\\t3.0\\tb\\n3.5\\t3.5\\tb\\n4.0\\t4.0\\tdb\\n4.5\\t4.5\\tb\\n5.0\\t5.0\\tb\\n5.5\\t5.5\\tb\\n6.0\\t6.0\\tdb\\n6.5\\t6.5\\tb\\n7.0\\t7.0\\tb\\n7.5\\t7.5\\tb\\n8.0\\t8.0\\tdb\\n8.5\\t8.5\\tb\\n9.0\\t9.0\\tb\\n9.5\\t9.5\\tb\\n10.0\\t10.0\\tdb\\n10.5\\t10.5\\tb\\n11.0\\t11.0\\tb\\n11.5\\t11.5\\tb\\n12.0\\t12.0\\tdb\\n12.5\\t12.5\\tb\\n13.0\\t13.0\\tb\\n13.5\\t13.5\\tb\\n14.0\\t14.0\\tdb\\n14.5\\t14.5\\tb\\n15.0\\t15.0\\tb\\n15.5\\t15.5\\tb\\n16.0\\t16.0\\tdb\\n16.5\\t16.5\\tb\\n17.0\\t17.0\\tb\\n17.5\\t17.5\\tb\\n18.0\\t18.0\\tdb\\n18.5\\t18.5\\tb\\n19.0\\t19.0\\tb\\n19.5\\t19.5\\tb\\n20.0\\t20.0\\tdb\\n20.5\\t20.5\\tb\\n21.0\\t21.0\\tb\\n21.5\\t21.5\\tb\\n22.0\\t22.0\\tdb\\n22.5\\t22.5\\tb\\n23.0\\t23.0\\tb\\n23.5\\t23.5\\tb\\n24.0\\t24.0\\tdb\\n24.5\\t24.5\\tb\\n25.0\\t25.0\\tb\\n25.5\\t25.5\\tb\\n26.0\\t26.0\\tdb\\n26.5\\t26.5\\tb\\n27.0\\t27.0\\tb\\n27.5\\t27.5\\tb\\n28.0\\t28.0\\tdb\\n28.5\\t28.5\\tb\\n29.0\\t29.0\\tb\\n29.5\\t29.5\\tb\\n30.0\\t30.0\\tdb\\n30.5\\t30.5\\tb\\n31.0\\t31.0\\tb\\n31.5\\t31.5\\tb\\n32.0\\t32.0\\tdb\\n32.5\\t32.5\\tb\\n33.0\\t33.0\\tb\\n33.5\\t33.5\\tb\\n34.0\\t34.0\\tdb\\n34.5\\t34.5\\tb\\n35.0\\t35.0\\tb\\n35.5\\t35.5\\tb\\n36.0\\t36.0\\tdb\\n36.5\\t36.5\\tb\\n37.0\\t37.0\\tb\\n37.5\\t37.5\\tb\\n38.0\\t38.0\\tdb\\n38.5\\t38.5\\tb\\n39.0\\t39.0\\tb\\n39.5\\t39.5\\tb\\n40.0\\t40.0\\tdb\\n40.5\\t40.5\\tb\\n41.0\\t41.0\\tb\\n41.5\\t41.5\\tb\\n42.0\\t42.0\\tdb\\n42.5\\t42.5\\tb\\n43.0\\t43.0\\tb\\n43.5\\t43.5\\tb\\n44.0\\t44.0\\tdb\\n44.5\\t44.5\\tb\\n45.0\\t45.0\\tb\\n45.5\\t45.5\\tb\\n46.0\\t46.0\\tdb\\n46.5\\t46.5\\tb\\n47.0\\t47.0\\tb\\n47.5\\t47.5\\tb\\n48.0\\t48.0\\tdb\\n48.5\\t48.5\\tb\\n49.0\\t49.0\\tb\\n49.5\\t49.5\\tb\\n50.0\\t50.0\\tdb\\n50.5\\t50.5\\tb\\n51.0\\t51.0\\tb\\n51.5\\t51.5\\tb\\n52.0\\t52.0\\tdb\\n52.5\\t52.5\\tb\\n53.0\\t53.0\\tb\\n'"
      ]
     },
     "execution_count": 15,
     "metadata": {},
     "output_type": "execute_result"
    }
   ],
   "source": [
    "midi_data"
   ]
  },
  {
   "cell_type": "code",
   "execution_count": 16,
   "metadata": {},
   "outputs": [],
   "source": [
    "annotations = {}\n",
    "\n",
    "with open('./asap-dataset-master/'+sample['midi_score_annotations'], 'r') as f:\n",
    "    for line in f:\n",
    "        parts = line.strip().split('\\t')\n",
    "        if len(parts) >= 3:\n",
    "            timestamp = float(parts[0])  # First column as timestamp\n",
    "            annotation = parts[2]        # Third column as annotation\n",
    "            annotations[timestamp] = annotation"
   ]
  },
  {
   "cell_type": "code",
   "execution_count": null,
   "metadata": {},
   "outputs": [
    {
     "ename": "AttributeError",
     "evalue": "'tuple' object has no attribute 'split'",
     "output_type": "error",
     "traceback": [
      "\u001b[0;31m---------------------------------------------------------------------------\u001b[0m",
      "\u001b[0;31mAttributeError\u001b[0m                            Traceback (most recent call last)",
      "Cell \u001b[0;32mIn[23], line 2\u001b[0m\n\u001b[1;32m      1\u001b[0m \u001b[38;5;28;01mfor\u001b[39;00m i \u001b[38;5;129;01min\u001b[39;00m annotations\u001b[38;5;241m.\u001b[39mitems():\n\u001b[0;32m----> 2\u001b[0m     \u001b[38;5;28mprint\u001b[39m(\u001b[43mi\u001b[49m\u001b[38;5;241;43m.\u001b[39;49m\u001b[43msplit\u001b[49m(\u001b[38;5;124m'\u001b[39m\u001b[38;5;124mb\u001b[39m\u001b[38;5;124m'\u001b[39m)[\u001b[38;5;241m0\u001b[39m])\n\u001b[1;32m      3\u001b[0m     \u001b[38;5;28;01mbreak\u001b[39;00m\n",
      "\u001b[0;31mAttributeError\u001b[0m: 'tuple' object has no attribute 'split'"
     ]
    }
   ],
   "source": []
  },
  {
   "cell_type": "code",
   "execution_count": null,
   "metadata": {},
   "outputs": [],
   "source": []
  }
 ],
 "metadata": {
  "kernelspec": {
   "display_name": "base",
   "language": "python",
   "name": "python3"
  },
  "language_info": {
   "codemirror_mode": {
    "name": "ipython",
    "version": 3
   },
   "file_extension": ".py",
   "mimetype": "text/x-python",
   "name": "python",
   "nbconvert_exporter": "python",
   "pygments_lexer": "ipython3",
   "version": "3.9.7"
  }
 },
 "nbformat": 4,
 "nbformat_minor": 2
}
