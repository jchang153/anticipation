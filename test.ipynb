{
 "cells": [
  {
   "cell_type": "code",
   "execution_count": 21,
   "metadata": {},
   "outputs": [],
   "source": [
    "import numpy as np\n",
    "import pandas as pd\n",
    "from matplotlib import pyplot as plt\n",
    "\n",
    "import annotation_mapping as am\n",
    "\n",
    "from anticipation.convert import midi_to_compound\n",
    "from train.midi_preprocess import convert_midi\n"
   ]
  },
  {
   "cell_type": "code",
   "execution_count": 2,
   "metadata": {},
   "outputs": [],
   "source": [
    "df = pd.read_csv('asap-dataset-master/metadata.csv')"
   ]
  },
  {
   "cell_type": "code",
   "execution_count": 3,
   "metadata": {},
   "outputs": [
    {
     "data": {
      "text/html": [
       "<div>\n",
       "<style scoped>\n",
       "    .dataframe tbody tr th:only-of-type {\n",
       "        vertical-align: middle;\n",
       "    }\n",
       "\n",
       "    .dataframe tbody tr th {\n",
       "        vertical-align: top;\n",
       "    }\n",
       "\n",
       "    .dataframe thead th {\n",
       "        text-align: right;\n",
       "    }\n",
       "</style>\n",
       "<table border=\"1\" class=\"dataframe\">\n",
       "  <thead>\n",
       "    <tr style=\"text-align: right;\">\n",
       "      <th></th>\n",
       "      <th>composer</th>\n",
       "      <th>title</th>\n",
       "      <th>folder</th>\n",
       "      <th>xml_score</th>\n",
       "      <th>midi_score</th>\n",
       "      <th>midi_performance</th>\n",
       "      <th>performance_annotations</th>\n",
       "      <th>midi_score_annotations</th>\n",
       "      <th>maestro_midi_performance</th>\n",
       "      <th>maestro_audio_performance</th>\n",
       "      <th>start</th>\n",
       "      <th>end</th>\n",
       "      <th>audio_performance</th>\n",
       "    </tr>\n",
       "  </thead>\n",
       "  <tbody>\n",
       "    <tr>\n",
       "      <th>0</th>\n",
       "      <td>Bach</td>\n",
       "      <td>Fugue_bwv_846</td>\n",
       "      <td>Bach/Fugue/bwv_846</td>\n",
       "      <td>Bach/Fugue/bwv_846/xml_score.musicxml</td>\n",
       "      <td>Bach/Fugue/bwv_846/midi_score.mid</td>\n",
       "      <td>Bach/Fugue/bwv_846/Shi05M.mid</td>\n",
       "      <td>Bach/Fugue/bwv_846/Shi05M_annotations.txt</td>\n",
       "      <td>Bach/Fugue/bwv_846/midi_score_annotations.txt</td>\n",
       "      <td>{maestro}/2006/MIDI-Unprocessed_19_R1_2006_01-...</td>\n",
       "      <td>{maestro}/2006/MIDI-Unprocessed_19_R1_2006_01-...</td>\n",
       "      <td>144.567708</td>\n",
       "      <td>NaN</td>\n",
       "      <td>Bach/Fugue/bwv_846/Shi05M.wav</td>\n",
       "    </tr>\n",
       "    <tr>\n",
       "      <th>1</th>\n",
       "      <td>Bach</td>\n",
       "      <td>Fugue_bwv_848</td>\n",
       "      <td>Bach/Fugue/bwv_848</td>\n",
       "      <td>Bach/Fugue/bwv_848/xml_score.musicxml</td>\n",
       "      <td>Bach/Fugue/bwv_848/midi_score.mid</td>\n",
       "      <td>Bach/Fugue/bwv_848/Denisova06M.mid</td>\n",
       "      <td>Bach/Fugue/bwv_848/Denisova06M_annotations.txt</td>\n",
       "      <td>Bach/Fugue/bwv_848/midi_score_annotations.txt</td>\n",
       "      <td>{maestro}/2008/MIDI-Unprocessed_02_R1_2008_01-...</td>\n",
       "      <td>{maestro}/2008/MIDI-Unprocessed_02_R1_2008_01-...</td>\n",
       "      <td>69.317708</td>\n",
       "      <td>NaN</td>\n",
       "      <td>Bach/Fugue/bwv_848/Denisova06M.wav</td>\n",
       "    </tr>\n",
       "    <tr>\n",
       "      <th>2</th>\n",
       "      <td>Bach</td>\n",
       "      <td>Fugue_bwv_848</td>\n",
       "      <td>Bach/Fugue/bwv_848</td>\n",
       "      <td>Bach/Fugue/bwv_848/xml_score.musicxml</td>\n",
       "      <td>Bach/Fugue/bwv_848/midi_score.mid</td>\n",
       "      <td>Bach/Fugue/bwv_848/Lee01M.mid</td>\n",
       "      <td>Bach/Fugue/bwv_848/Lee01M_annotations.txt</td>\n",
       "      <td>Bach/Fugue/bwv_848/midi_score_annotations.txt</td>\n",
       "      <td>{maestro}/2011/MIDI-Unprocessed_08_R1_2011_MID...</td>\n",
       "      <td>{maestro}/2011/MIDI-Unprocessed_08_R1_2011_MID...</td>\n",
       "      <td>74.795573</td>\n",
       "      <td>NaN</td>\n",
       "      <td>Bach/Fugue/bwv_848/Lee01M.wav</td>\n",
       "    </tr>\n",
       "    <tr>\n",
       "      <th>3</th>\n",
       "      <td>Bach</td>\n",
       "      <td>Fugue_bwv_848</td>\n",
       "      <td>Bach/Fugue/bwv_848</td>\n",
       "      <td>Bach/Fugue/bwv_848/xml_score.musicxml</td>\n",
       "      <td>Bach/Fugue/bwv_848/midi_score.mid</td>\n",
       "      <td>Bach/Fugue/bwv_848/LeeSH01M.mid</td>\n",
       "      <td>Bach/Fugue/bwv_848/LeeSH01M_annotations.txt</td>\n",
       "      <td>Bach/Fugue/bwv_848/midi_score_annotations.txt</td>\n",
       "      <td>{maestro}/2017/MIDI-Unprocessed_049_PIANO049_M...</td>\n",
       "      <td>{maestro}/2017/MIDI-Unprocessed_049_PIANO049_M...</td>\n",
       "      <td>83.644792</td>\n",
       "      <td>NaN</td>\n",
       "      <td>Bach/Fugue/bwv_848/LeeSH01M.wav</td>\n",
       "    </tr>\n",
       "    <tr>\n",
       "      <th>4</th>\n",
       "      <td>Bach</td>\n",
       "      <td>Fugue_bwv_848</td>\n",
       "      <td>Bach/Fugue/bwv_848</td>\n",
       "      <td>Bach/Fugue/bwv_848/xml_score.musicxml</td>\n",
       "      <td>Bach/Fugue/bwv_848/midi_score.mid</td>\n",
       "      <td>Bach/Fugue/bwv_848/Lin04M.mid</td>\n",
       "      <td>Bach/Fugue/bwv_848/Lin04M_annotations.txt</td>\n",
       "      <td>Bach/Fugue/bwv_848/midi_score_annotations.txt</td>\n",
       "      <td>{maestro}/2008/MIDI-Unprocessed_10_R1_2008_01-...</td>\n",
       "      <td>{maestro}/2008/MIDI-Unprocessed_10_R1_2008_01-...</td>\n",
       "      <td>75.373698</td>\n",
       "      <td>NaN</td>\n",
       "      <td>Bach/Fugue/bwv_848/Lin04M.wav</td>\n",
       "    </tr>\n",
       "  </tbody>\n",
       "</table>\n",
       "</div>"
      ],
      "text/plain": [
       "  composer          title              folder  \\\n",
       "0     Bach  Fugue_bwv_846  Bach/Fugue/bwv_846   \n",
       "1     Bach  Fugue_bwv_848  Bach/Fugue/bwv_848   \n",
       "2     Bach  Fugue_bwv_848  Bach/Fugue/bwv_848   \n",
       "3     Bach  Fugue_bwv_848  Bach/Fugue/bwv_848   \n",
       "4     Bach  Fugue_bwv_848  Bach/Fugue/bwv_848   \n",
       "\n",
       "                               xml_score                         midi_score  \\\n",
       "0  Bach/Fugue/bwv_846/xml_score.musicxml  Bach/Fugue/bwv_846/midi_score.mid   \n",
       "1  Bach/Fugue/bwv_848/xml_score.musicxml  Bach/Fugue/bwv_848/midi_score.mid   \n",
       "2  Bach/Fugue/bwv_848/xml_score.musicxml  Bach/Fugue/bwv_848/midi_score.mid   \n",
       "3  Bach/Fugue/bwv_848/xml_score.musicxml  Bach/Fugue/bwv_848/midi_score.mid   \n",
       "4  Bach/Fugue/bwv_848/xml_score.musicxml  Bach/Fugue/bwv_848/midi_score.mid   \n",
       "\n",
       "                     midi_performance  \\\n",
       "0       Bach/Fugue/bwv_846/Shi05M.mid   \n",
       "1  Bach/Fugue/bwv_848/Denisova06M.mid   \n",
       "2       Bach/Fugue/bwv_848/Lee01M.mid   \n",
       "3     Bach/Fugue/bwv_848/LeeSH01M.mid   \n",
       "4       Bach/Fugue/bwv_848/Lin04M.mid   \n",
       "\n",
       "                          performance_annotations  \\\n",
       "0       Bach/Fugue/bwv_846/Shi05M_annotations.txt   \n",
       "1  Bach/Fugue/bwv_848/Denisova06M_annotations.txt   \n",
       "2       Bach/Fugue/bwv_848/Lee01M_annotations.txt   \n",
       "3     Bach/Fugue/bwv_848/LeeSH01M_annotations.txt   \n",
       "4       Bach/Fugue/bwv_848/Lin04M_annotations.txt   \n",
       "\n",
       "                          midi_score_annotations  \\\n",
       "0  Bach/Fugue/bwv_846/midi_score_annotations.txt   \n",
       "1  Bach/Fugue/bwv_848/midi_score_annotations.txt   \n",
       "2  Bach/Fugue/bwv_848/midi_score_annotations.txt   \n",
       "3  Bach/Fugue/bwv_848/midi_score_annotations.txt   \n",
       "4  Bach/Fugue/bwv_848/midi_score_annotations.txt   \n",
       "\n",
       "                            maestro_midi_performance  \\\n",
       "0  {maestro}/2006/MIDI-Unprocessed_19_R1_2006_01-...   \n",
       "1  {maestro}/2008/MIDI-Unprocessed_02_R1_2008_01-...   \n",
       "2  {maestro}/2011/MIDI-Unprocessed_08_R1_2011_MID...   \n",
       "3  {maestro}/2017/MIDI-Unprocessed_049_PIANO049_M...   \n",
       "4  {maestro}/2008/MIDI-Unprocessed_10_R1_2008_01-...   \n",
       "\n",
       "                           maestro_audio_performance       start  end  \\\n",
       "0  {maestro}/2006/MIDI-Unprocessed_19_R1_2006_01-...  144.567708  NaN   \n",
       "1  {maestro}/2008/MIDI-Unprocessed_02_R1_2008_01-...   69.317708  NaN   \n",
       "2  {maestro}/2011/MIDI-Unprocessed_08_R1_2011_MID...   74.795573  NaN   \n",
       "3  {maestro}/2017/MIDI-Unprocessed_049_PIANO049_M...   83.644792  NaN   \n",
       "4  {maestro}/2008/MIDI-Unprocessed_10_R1_2008_01-...   75.373698  NaN   \n",
       "\n",
       "                    audio_performance  \n",
       "0       Bach/Fugue/bwv_846/Shi05M.wav  \n",
       "1  Bach/Fugue/bwv_848/Denisova06M.wav  \n",
       "2       Bach/Fugue/bwv_848/Lee01M.wav  \n",
       "3     Bach/Fugue/bwv_848/LeeSH01M.wav  \n",
       "4       Bach/Fugue/bwv_848/Lin04M.wav  "
      ]
     },
     "execution_count": 3,
     "metadata": {},
     "output_type": "execute_result"
    }
   ],
   "source": [
    "df.head()"
   ]
  },
  {
   "cell_type": "code",
   "execution_count": 9,
   "metadata": {},
   "outputs": [],
   "source": [
    "BASE = \"./asap-dataset-master/\""
   ]
  },
  {
   "cell_type": "code",
   "execution_count": 4,
   "metadata": {},
   "outputs": [],
   "source": [
    "sample = df.iloc[0]\n",
    "x1 = \"./asap-dataset-master/\" + sample['midi_score_annotations']\n",
    "x2 = \"./asap-dataset-master/\" + sample['performance_annotations']"
   ]
  },
  {
   "cell_type": "code",
   "execution_count": 5,
   "metadata": {},
   "outputs": [],
   "source": [
    "map = am.compare_annotations(x1, x2)"
   ]
  },
  {
   "cell_type": "code",
   "execution_count": 11,
   "metadata": {},
   "outputs": [],
   "source": [
    "sample_mid_file = BASE + sample['midi_score']"
   ]
  },
  {
   "cell_type": "code",
   "execution_count": 13,
   "metadata": {},
   "outputs": [],
   "source": [
    "tokens = midi_to_compound(sample_mid_file)"
   ]
  },
  {
   "cell_type": "code",
   "execution_count": 22,
   "metadata": {},
   "outputs": [
    {
     "data": {
      "text/plain": [
       "0"
      ]
     },
     "execution_count": 22,
     "metadata": {},
     "output_type": "execute_result"
    }
   ],
   "source": [
    "convert_midi(sample_mid_file)"
   ]
  },
  {
   "cell_type": "code",
   "execution_count": null,
   "metadata": {},
   "outputs": [],
   "source": []
  }
 ],
 "metadata": {
  "kernelspec": {
   "display_name": "base",
   "language": "python",
   "name": "python3"
  },
  "language_info": {
   "codemirror_mode": {
    "name": "ipython",
    "version": 3
   },
   "file_extension": ".py",
   "mimetype": "text/x-python",
   "name": "python",
   "nbconvert_exporter": "python",
   "pygments_lexer": "ipython3",
   "version": "3.9.7"
  }
 },
 "nbformat": 4,
 "nbformat_minor": 2
}
